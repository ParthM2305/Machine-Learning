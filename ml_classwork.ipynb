{
 "cells": [
  {
   "cell_type": "code",
   "execution_count": 2,
   "metadata": {},
   "outputs": [
    {
     "ename": "ModuleNotFoundError",
     "evalue": "No module named 'pandas'",
     "output_type": "error",
     "traceback": [
      "\u001b[1;31m---------------------------------------------------------------------------\u001b[0m",
      "\u001b[1;31mModuleNotFoundError\u001b[0m                       Traceback (most recent call last)",
      "Cell \u001b[1;32mIn[2], line 1\u001b[0m\n\u001b[1;32m----> 1\u001b[0m \u001b[38;5;28;01mimport\u001b[39;00m \u001b[38;5;21;01mpandas\u001b[39;00m \u001b[38;5;28;01mas\u001b[39;00m \u001b[38;5;21;01mpd\u001b[39;00m\n\u001b[0;32m      2\u001b[0m df \u001b[38;5;241m=\u001b[39m pd\u001b[38;5;241m.\u001b[39mread_csv(\u001b[38;5;124m\"\u001b[39m\u001b[38;5;124mdata.csv\u001b[39m\u001b[38;5;124m\"\u001b[39m)\n\u001b[0;32m      3\u001b[0m \u001b[38;5;28mprint\u001b[39m(df) \n",
      "\u001b[1;31mModuleNotFoundError\u001b[0m: No module named 'pandas'"
     ]
    }
   ],
   "source": [
    "import pandas as pd\n",
    "df = pd.read_csv(\"data.csv\")\n",
    "print(df) "
   ]
  },
  {
   "cell_type": "markdown",
   "metadata": {},
   "source": [
    "np.linalg.solve(A, B) solves the linear equation \n",
    "𝐴⋅𝑋=𝐵\n",
    "A⋅X=B directly, which is computationally more efficient and numerically stable compared to explicitly computing the inverse using np.linalg.inv()."
   ]
  },
  {
   "cell_type": "markdown",
   "metadata": {},
   "source": [
    "linear Regression"
   ]
  },
  {
   "cell_type": "code",
   "execution_count": 28,
   "metadata": {},
   "outputs": [
    {
     "name": "stdout",
     "output_type": "stream",
     "text": [
      "Intercept: 18310.000000000022\n"
     ]
    }
   ],
   "source": [
    "import numpy as np\n",
    "import pandas as pd\n",
    "\n",
    "# Dataset\n",
    "data = {'Experience': [1, 2, 3, 4, 5], 'Salary': [4000, 5500, 68000, 8000, 1100]}\n",
    "df = pd.DataFrame(data)\n",
    "\n",
    "X = df[['Experience']].values\n",
    "y = df['Salary'].values\n",
    "\n",
    "X = np.hstack([np.ones((X.shape[0], 1)), X])\n",
    "\n",
    "theta = np.linalg.inv(X.T @ X) @ X.T @ y\n",
    "\n",
    "y_pred = X @ theta\n",
    "mse = np.mean((y - y_pred) ** 2)\n",
    "r2 = 1 - np.sum((y - y_pred) ** 2) / np.sum((y - y.mean()) ** 2)\n",
    "\n",
    "print(\"Intercept:\", theta[0])\n",
    "\n"
   ]
  },
  {
   "cell_type": "markdown",
   "metadata": {},
   "source": [
    "multiple Regression"
   ]
  },
  {
   "cell_type": "code",
   "execution_count": 27,
   "metadata": {},
   "outputs": [
    {
     "name": "stdout",
     "output_type": "stream",
     "text": [
      "Intercept: 400.00000000000034\n"
     ]
    }
   ],
   "source": [
    "import numpy as np\n",
    "import pandas as pd\n",
    "\n",
    "data = {\n",
    "    'Experience': [1, 2,5],\n",
    "    'Education': [1, 2,3],\n",
    "    'Salary': [450, 500, 1100]\n",
    "}\n",
    "df = pd.DataFrame(data)\n",
    "\n",
    "X = df[['Experience', 'Education']].values\n",
    "y = df['Salary'].values\n",
    "\n",
    "X = np.hstack([np.ones((X.shape[0], 1)), X])\n",
    "\n",
    "theta = np.linalg.solve(X.T @ X, X.T @ y)\n",
    "\n",
    "y_pred = X @ theta\n",
    "\n",
    "mse = np.mean((y - y_pred) ** 2)\n",
    "r2 = 1 - np.sum((y - y_pred) ** 2) / np.sum((y - y.mean()) ** 2)\n",
    "\n",
    "print(\"Intercept:\", theta[0])\n",
    "\n"
   ]
  },
  {
   "cell_type": "markdown",
   "metadata": {},
   "source": [
    "gradient descent "
   ]
  },
  {
   "cell_type": "code",
   "execution_count": 30,
   "metadata": {},
   "outputs": [
    {
     "name": "stdout",
     "output_type": "stream",
     "text": [
      "Final parameters: [114.09876543 412.43621399]\n"
     ]
    }
   ],
   "source": [
    "\n",
    "import numpy as np\n",
    "X = np.array([[1], [2], [3],[4],[5]])\n",
    "y = np.array([2, 4, 6,8,10])\n",
    "\n",
    "X = np.hstack([np.ones((X.shape[0], 1)), X]) \n",
    "\n",
    "theta = np.zeros(X.shape[1])\n",
    "alpha = 0.1\n",
    "iterations = 5\n",
    "\n",
    "for _ in range(iterations):\n",
    "    predictions = np.dot(X, theta)\n",
    "    error = predictions - y\n",
    "    gradient = (2/m) * np.dot(X.T, error)\n",
    "    theta -= alpha * gradient\n",
    "\n",
    "print(\"Final parameters:\", theta)\n"
   ]
  }
 ],
 "metadata": {
  "kernelspec": {
   "display_name": "Python 3",
   "language": "python",
   "name": "python3"
  },
  "language_info": {
   "codemirror_mode": {
    "name": "ipython",
    "version": 3
   },
   "file_extension": ".py",
   "mimetype": "text/x-python",
   "name": "python",
   "nbconvert_exporter": "python",
   "pygments_lexer": "ipython3",
   "version": "3.11.3"
  }
 },
 "nbformat": 4,
 "nbformat_minor": 2
}
